{
  "nbformat": 4,
  "nbformat_minor": 0,
  "metadata": {
    "colab": {
      "name": "MovieLensGNNRegression.ipynb",
      "provenance": [],
      "collapsed_sections": []
    },
    "kernelspec": {
      "name": "python3",
      "display_name": "Python 3"
    },
    "language_info": {
      "name": "python"
    },
    "accelerator": "GPU"
  },
  "cells": [
    {
      "cell_type": "code",
      "metadata": {
        "id": "LtFEKbf_TutA"
      },
      "source": [
        "try:\n",
        "  import torch_geometric\n",
        "except:\n",
        "  !pip install torch-scatter -f https://data.pyg.org/whl/torch-1.10.0+cu111.html\n",
        "  !pip install torch-sparse -f https://data.pyg.org/whl/torch-1.10.0+cu111.html\n",
        "  !pip install torch-geometric"
      ],
      "execution_count": null,
      "outputs": []
    },
    {
      "cell_type": "markdown",
      "metadata": {
        "id": "o4X7_sQG634J"
      },
      "source": [
        "### Data loading"
      ]
    },
    {
      "cell_type": "code",
      "metadata": {
        "colab": {
          "base_uri": "https://localhost:8080/"
        },
        "id": "zzV6Ml0TUR8v",
        "outputId": "e3052350-3055-42b7-8e7c-a2d2b98cc2e0"
      },
      "source": [
        "from torch_geometric.data import download_url, extract_zip\n",
        "\n",
        "url = 'https://files.grouplens.org/datasets/movielens/ml-latest-small.zip'\n",
        "extract_zip(download_url(url, '.'), '.')\n",
        "\n",
        "movie_path = './ml-latest-small/movies.csv'\n",
        "rating_path = './ml-latest-small/ratings.csv'"
      ],
      "execution_count": null,
      "outputs": [
        {
          "output_type": "stream",
          "name": "stderr",
          "text": [
            "Using existing file ml-latest-small.zip\n",
            "Extracting ./ml-latest-small.zip\n"
          ]
        }
      ]
    },
    {
      "cell_type": "code",
      "metadata": {
        "colab": {
          "base_uri": "https://localhost:8080/",
          "height": 206
        },
        "id": "R_E7u1Ap4GFP",
        "outputId": "9c93ded7-570b-4dea-dc66-29984f1952b4"
      },
      "source": [
        "import pandas as pd\n",
        "\n",
        "ratings = pd.read_csv(rating_path)\n",
        "ratings.head()"
      ],
      "execution_count": null,
      "outputs": [
        {
          "output_type": "execute_result",
          "data": {
            "text/html": [
              "<div>\n",
              "<style scoped>\n",
              "    .dataframe tbody tr th:only-of-type {\n",
              "        vertical-align: middle;\n",
              "    }\n",
              "\n",
              "    .dataframe tbody tr th {\n",
              "        vertical-align: top;\n",
              "    }\n",
              "\n",
              "    .dataframe thead th {\n",
              "        text-align: right;\n",
              "    }\n",
              "</style>\n",
              "<table border=\"1\" class=\"dataframe\">\n",
              "  <thead>\n",
              "    <tr style=\"text-align: right;\">\n",
              "      <th></th>\n",
              "      <th>userId</th>\n",
              "      <th>movieId</th>\n",
              "      <th>rating</th>\n",
              "      <th>timestamp</th>\n",
              "    </tr>\n",
              "  </thead>\n",
              "  <tbody>\n",
              "    <tr>\n",
              "      <th>0</th>\n",
              "      <td>1</td>\n",
              "      <td>1</td>\n",
              "      <td>4.0</td>\n",
              "      <td>964982703</td>\n",
              "    </tr>\n",
              "    <tr>\n",
              "      <th>1</th>\n",
              "      <td>1</td>\n",
              "      <td>3</td>\n",
              "      <td>4.0</td>\n",
              "      <td>964981247</td>\n",
              "    </tr>\n",
              "    <tr>\n",
              "      <th>2</th>\n",
              "      <td>1</td>\n",
              "      <td>6</td>\n",
              "      <td>4.0</td>\n",
              "      <td>964982224</td>\n",
              "    </tr>\n",
              "    <tr>\n",
              "      <th>3</th>\n",
              "      <td>1</td>\n",
              "      <td>47</td>\n",
              "      <td>5.0</td>\n",
              "      <td>964983815</td>\n",
              "    </tr>\n",
              "    <tr>\n",
              "      <th>4</th>\n",
              "      <td>1</td>\n",
              "      <td>50</td>\n",
              "      <td>5.0</td>\n",
              "      <td>964982931</td>\n",
              "    </tr>\n",
              "  </tbody>\n",
              "</table>\n",
              "</div>"
            ],
            "text/plain": [
              "   userId  movieId  rating  timestamp\n",
              "0       1        1     4.0  964982703\n",
              "1       1        3     4.0  964981247\n",
              "2       1        6     4.0  964982224\n",
              "3       1       47     5.0  964983815\n",
              "4       1       50     5.0  964982931"
            ]
          },
          "metadata": {},
          "execution_count": 3
        }
      ]
    },
    {
      "cell_type": "code",
      "metadata": {
        "colab": {
          "base_uri": "https://localhost:8080/",
          "height": 334
        },
        "id": "WUi2HQTJDqCH",
        "outputId": "70b0133a-9bc2-457c-a1e6-08849d4f668e"
      },
      "source": [
        "# ratings distribution\n",
        "import matplotlib.pyplot as plt\n",
        "plt.hist(ratings['rating'])"
      ],
      "execution_count": null,
      "outputs": [
        {
          "output_type": "execute_result",
          "data": {
            "text/plain": [
              "(array([ 1370.,  2811.,  1791.,  7551.,  5550., 20047., 13136., 26818.,\n",
              "         8551., 13211.]),\n",
              " array([0.5 , 0.95, 1.4 , 1.85, 2.3 , 2.75, 3.2 , 3.65, 4.1 , 4.55, 5.  ]),\n",
              " <a list of 10 Patch objects>)"
            ]
          },
          "metadata": {},
          "execution_count": 4
        },
        {
          "output_type": "display_data",
          "data": {
            "image/png": "[encoded data removed]",
            "text/plain": [
              "<Figure size 432x288 with 1 Axes>"
            ]
          },
          "metadata": {
            "needs_background": "light"
          }
        }
      ]
    },
    {
      "cell_type": "code",
      "metadata": {
        "colab": {
          "base_uri": "https://localhost:8080/"
        },
        "id": "5jDLEeo8UWWS",
        "outputId": "96d47a26-c2d1-4af4-92f8-c2268dfed7c2"
      },
      "source": [
        "# nodes\n",
        "import torch \n",
        "user_mapping = {user_id: index for index, user_id in enumerate(ratings['userId'].unique())}\n",
        "num_users = len(user_mapping)\n",
        "movie_mapping = {movie_id: index + num_users for index, movie_id in enumerate(ratings['movieId'].unique())}\n",
        "num_movies = len(movie_mapping)\n",
        "\n",
        "num_nodes = num_users + num_movies\n",
        "x = torch.range(0, num_nodes - 1)[:, None]\n",
        "x = x.type(torch.int)\n",
        "print(x)\n",
        "print(x.shape)\n",
        "print(x.dtype)"
      ],
      "execution_count": null,
      "outputs": [
        {
          "output_type": "stream",
          "name": "stdout",
          "text": [
            "tensor([[    0],\n",
            "        [    1],\n",
            "        [    2],\n",
            "        ...,\n",
            "        [10331],\n",
            "        [10332],\n",
            "        [10333]], dtype=torch.int32)\n",
            "torch.Size([10334, 1])\n",
            "torch.int32\n"
          ]
        },
        {
          "output_type": "stream",
          "name": "stderr",
          "text": [
            "/usr/local/lib/python3.7/dist-packages/ipykernel_launcher.py:9: UserWarning: torch.range is deprecated and will be removed in a future release because its behavior is inconsistent with Python's range builtin. Instead, use torch.arange, which produces values in [start, end).\n",
            "  if __name__ == '__main__':\n"
          ]
        }
      ]
    },
    {
      "cell_type": "code",
      "metadata": {
        "colab": {
          "base_uri": "https://localhost:8080/"
        },
        "id": "r0s6aUOjU2oR",
        "outputId": "5da090d0-ae79-4efe-95d5-3bd3bbfb1687"
      },
      "source": [
        "# edges index\n",
        "src = [user_mapping[index] for index in ratings['userId']]\n",
        "dst = [movie_mapping[index] for index in ratings['movieId']]\n",
        "edge_index = torch.tensor([src, dst])\n",
        "print(edge_index)\n",
        "print(edge_index.shape)\n",
        "print(edge_index.dtype)"
      ],
      "execution_count": null,
      "outputs": [
        {
          "output_type": "stream",
          "name": "stdout",
          "text": [
            "tensor([[   0,    0,    0,  ...,  609,  609,  609],\n",
            "        [ 610,  611,  612,  ..., 3731, 2002, 3483]])\n",
            "torch.Size([2, 100836])\n",
            "torch.int64\n"
          ]
        }
      ]
    },
    {
      "cell_type": "code",
      "metadata": {
        "colab": {
          "base_uri": "https://localhost:8080/"
        },
        "id": "Xf9Dz0RLWFVF",
        "outputId": "a72deee1-1843-4f3f-9f0d-e16b4e2a0668"
      },
      "source": [
        "# edges label\n",
        "edge_label = torch.tensor(ratings['rating'][:, None], dtype=torch.float)\n",
        "print(edge_label)\n",
        "print(edge_label.shape)\n",
        "print(edge_label.dtype)"
      ],
      "execution_count": null,
      "outputs": [
        {
          "output_type": "stream",
          "name": "stdout",
          "text": [
            "tensor([[4.],\n",
            "        [4.],\n",
            "        [4.],\n",
            "        ...,\n",
            "        [5.],\n",
            "        [5.],\n",
            "        [3.]])\n",
            "torch.Size([100836, 1])\n",
            "torch.float32\n"
          ]
        },
        {
          "output_type": "stream",
          "name": "stderr",
          "text": [
            "/usr/local/lib/python3.7/dist-packages/ipykernel_launcher.py:2: FutureWarning: Support for multi-dimensional indexing (e.g. `obj[:, None]`) is deprecated and will be removed in a future version.  Convert to a numpy array before indexing instead.\n",
            "  \n"
          ]
        }
      ]
    },
    {
      "cell_type": "code",
      "metadata": {
        "colab": {
          "base_uri": "https://localhost:8080/"
        },
        "id": "HVaGIEyUWJAA",
        "outputId": "e56f58cf-9372-4cc6-cc90-fe945562d695"
      },
      "source": [
        "from torch_geometric.data import Data\n",
        "\n",
        "data = Data(x=x, edge_index=edge_index, edge_label=edge_label)\n",
        "print(data)"
      ],
      "execution_count": null,
      "outputs": [
        {
          "output_type": "stream",
          "name": "stdout",
          "text": [
            "Data(x=[10334, 1], edge_index=[2, 100836], edge_label=[100836, 1])\n"
          ]
        }
      ]
    },
    {
      "cell_type": "markdown",
      "metadata": {
        "id": "u9Sf9QO07DH_"
      },
      "source": [
        "### Training"
      ]
    },
    {
      "cell_type": "code",
      "metadata": {
        "id": "IadB9L9tjWDU"
      },
      "source": [
        "import torch\n",
        "import torch.nn.functional as F\n",
        "\n",
        "from torch_geometric.nn import GCNConv"
      ],
      "execution_count": null,
      "outputs": []
    },
    {
      "cell_type": "code",
      "metadata": {
        "id": "Zswth0zijfSG"
      },
      "source": [
        "device = torch.device('cuda' if torch.cuda.is_available() else 'cpu')"
      ],
      "execution_count": null,
      "outputs": []
    },
    {
      "cell_type": "code",
      "metadata": {
        "id": "yXn4wWPHb-M2"
      },
      "source": [
        "class Net(torch.nn.Module):\n",
        "    def __init__(self):\n",
        "        super(Net, self).__init__()\n",
        "        self.embed = torch.nn.Embedding(num_nodes, 16)\n",
        "        self.conv1 = GCNConv(16, 16)\n",
        "        self.conv2 = GCNConv(16, 16)\n",
        "        self.fc1 = torch.nn.Linear(32, 1)\n",
        "\n",
        "    def encode(self):\n",
        "        x = self.embed(data.x)\n",
        "        x = x.squeeze()\n",
        "        x = self.conv1(x, data.edge_index) # convolution 1\n",
        "        x = x.relu()\n",
        "        return self.conv2(x, data.edge_index) # convolution 2\n",
        "\n",
        "    def decode(self, z): \n",
        "        z = torch.concat((z[data.edge_index[0]], z[data.edge_index[1]]), axis=-1)\n",
        "        return self.fc1(z)"
      ],
      "execution_count": null,
      "outputs": []
    },
    {
      "cell_type": "code",
      "metadata": {
        "id": "mSJr8e0shXDS"
      },
      "source": [
        "model, data = Net().to(device), data.to(device)\n",
        "optimizer = torch.optim.Adam(params=model.parameters(), lr=0.0005)"
      ],
      "execution_count": null,
      "outputs": []
    },
    {
      "cell_type": "code",
      "metadata": {
        "id": "UpEKFS0PhaQG"
      },
      "source": [
        "def train():\n",
        "    model.train()\n",
        "\n",
        "    optimizer.zero_grad()\n",
        "    z = model.encode() #encode\n",
        "    z = model.decode(z) # decode\n",
        "    loss = F.mse_loss(z, data.edge_label)\n",
        "    loss.backward()\n",
        "    optimizer.step()\n",
        "\n",
        "    return loss"
      ],
      "execution_count": null,
      "outputs": []
    },
    {
      "cell_type": "code",
      "metadata": {
        "colab": {
          "base_uri": "https://localhost:8080/"
        },
        "id": "4KfT0H5dhdl4",
        "outputId": "1c42e6e9-581c-44f6-9aae-62619a9a5ac5"
      },
      "source": [
        "for epoch in range(1, 10000):\n",
        "    train_loss = train()\n",
        "    log = 'Epoch: {:03d}, Loss: {:.4f}'\n",
        "    if epoch % 500 == 0:\n",
        "        print(log.format(epoch, train_loss))"
      ],
      "execution_count": null,
      "outputs": [
        {
          "output_type": "stream",
          "name": "stdout",
          "text": [
            "Epoch: 500, Loss: 0.9758\n",
            "Epoch: 1000, Loss: 0.7996\n",
            "Epoch: 1500, Loss: 0.7553\n",
            "Epoch: 2000, Loss: 0.7366\n",
            "Epoch: 2500, Loss: 0.7232\n",
            "Epoch: 3000, Loss: 0.7104\n",
            "Epoch: 3500, Loss: 0.6951\n",
            "Epoch: 4000, Loss: 0.6774\n",
            "Epoch: 4500, Loss: 0.6660\n",
            "Epoch: 5000, Loss: 0.6592\n",
            "Epoch: 5500, Loss: 0.6535\n",
            "Epoch: 6000, Loss: 0.6488\n",
            "Epoch: 6500, Loss: 0.6450\n",
            "Epoch: 7000, Loss: 0.6422\n",
            "Epoch: 7500, Loss: 0.6392\n",
            "Epoch: 8000, Loss: 0.6369\n",
            "Epoch: 8500, Loss: 0.6350\n",
            "Epoch: 9000, Loss: 0.6333\n",
            "Epoch: 9500, Loss: 0.6318\n"
          ]
        }
      ]
    },
    {
      "cell_type": "code",
      "metadata": {
        "id": "qzDYCPxBL0_U"
      },
      "source": [
        ""
      ],
      "execution_count": null,
      "outputs": []
    }
  ]
}